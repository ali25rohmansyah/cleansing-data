{
 "cells": [
  {
   "cell_type": "code",
   "execution_count": 2,
   "id": "5f8b91fc-c5a5-4ca3-bc74-d92e01f63b90",
   "metadata": {},
   "outputs": [],
   "source": [
    "import pandas as pd"
   ]
  },
  {
   "cell_type": "code",
   "execution_count": 14,
   "id": "2b700868-8164-468f-ba18-25edbb2aeecc",
   "metadata": {},
   "outputs": [],
   "source": [
    "# read updateIdProyek sheet = brw_pendanaan\n",
    "df_updateIdProyek = pd.read_excel('data/updateIdProyek.xlsx', sheet_name='brw_pendanaan')\n",
    "# read lenderToProyek sheet = sheet1\n",
    "df_lenderToProyek = pd.read_excel('data/lenderToProyek.xlsx', sheet_name='Sheet1')"
   ]
  },
  {
   "cell_type": "code",
   "execution_count": 25,
   "id": "72e80add-4bfe-4a75-a1c1-361d1f3c4514",
   "metadata": {},
   "outputs": [
    {
     "name": "stdout",
     "output_type": "stream",
     "text": [
      "<class 'pandas.core.frame.DataFrame'>\n",
      "RangeIndex: 2122 entries, 0 to 2121\n",
      "Data columns (total 26 columns):\n",
      " #   Column                     Non-Null Count  Dtype  \n",
      "---  ------                     --------------  -----  \n",
      " 0   pendanaan_id               291 non-null    float64\n",
      " 1   pengajuan_id               291 non-null    float64\n",
      " 2   id_proyek                  1147 non-null   float64\n",
      " 3   brw_id                     489 non-null    float64\n",
      " 4   pendanaan_nama             2109 non-null   object \n",
      " 5   pendanaan_tipe             0 non-null      float64\n",
      " 6   pendanaan_akad             0 non-null      float64\n",
      " 7   pendanaan_dana_dibutuhkan  1043 non-null   float64\n",
      " 8   estimasi_mulai             1043 non-null   object \n",
      " 9   estimasi_imbal_hasil       1149 non-null   object \n",
      " 10  mode_pembayaran            0 non-null      float64\n",
      " 11  metode_pembayaran          0 non-null      float64\n",
      " 12  durasi_proyek              1042 non-null   float64\n",
      " 13  detail_pendanaan           0 non-null      float64\n",
      " 14  dana_dicairkan             1147 non-null   float64\n",
      " 15  status                     0 non-null      float64\n",
      " 16  status_dana                0 non-null      float64\n",
      " 17  lokasi_proyek              0 non-null      float64\n",
      " 18  geocode                    0 non-null      float64\n",
      " 19  va_number                  0 non-null      float64\n",
      " 20  gambar_utama               0 non-null      float64\n",
      " 21  status_tampil_pengajuan    0 non-null      float64\n",
      " 22  keterangan                 0 non-null      float64\n",
      " 23  keterangan_approval        0 non-null      float64\n",
      " 24  created_at                 0 non-null      float64\n",
      " 25  updated_at                 0 non-null      float64\n",
      "dtypes: float64(23), object(3)\n",
      "memory usage: 431.2+ KB\n"
     ]
    }
   ],
   "source": [
    "# info excel\n",
    "df_updateIdProyek.info()\n",
    "# df_lenderToProyek.info()"
   ]
  },
  {
   "cell_type": "code",
   "execution_count": 26,
   "id": "1535737c-0095-49bd-80ba-39d34f4965a3",
   "metadata": {},
   "outputs": [],
   "source": [
    "# df_updateIdProyek.head(3)\n",
    "# df_lenderToProyek.head(3)"
   ]
  },
  {
   "cell_type": "code",
   "execution_count": 28,
   "id": "be61a291-7aff-4223-b76f-7c9acd611cbb",
   "metadata": {},
   "outputs": [],
   "source": [
    "# update col type\n",
    "# df_updateIdProyek['pendanaan_id'] = df_updateIdProyek['pendanaan_id'].astype(int)"
   ]
  },
  {
   "cell_type": "code",
   "execution_count": 77,
   "id": "04e64cbd-b614-435b-8a8f-effc7c5e8dc2",
   "metadata": {},
   "outputs": [
    {
     "ename": "SyntaxError",
     "evalue": "keyword can't be an expression (<ipython-input-77-ab866171f401>, line 15)",
     "output_type": "error",
     "traceback": [
      "\u001b[0;36m  File \u001b[0;32m\"<ipython-input-77-ab866171f401>\"\u001b[0;36m, line \u001b[0;32m15\u001b[0m\n\u001b[0;31m    df_lenderToProyek['nama'] = pendanaan_nama\u001b[0m\n\u001b[0m    ^\u001b[0m\n\u001b[0;31mSyntaxError\u001b[0m\u001b[0;31m:\u001b[0m keyword can't be an expression\n"
     ]
    }
   ],
   "source": [
    "# filtering \n",
    "df_filter = df_updateIdProyek[\n",
    "    ['pendanaan_id', 'pengajuan_id', 'id_proyek', 'brw_id', 'pendanaan_nama', 'pendanaan_dana_dibutuhkan']\n",
    "].where(\n",
    "    df_updateIdProyek['pendanaan_dana_dibutuhkan'].isna()\n",
    "    & (df_updateIdProyek['pendanaan_nama'].notnull())\n",
    "    | (df_updateIdProyek['pendanaan_nama'].notna())\n",
    ")\n",
    "\n",
    "for index, row in df_filter.head(n=10).iterrows():\n",
    "    pendanaan_nama = row['pendanaan_nama']\n",
    "    total_need = df_lenderToProyek[\n",
    "        ['total_need','nama']\n",
    "    ].where(\n",
    "        df_lenderToProyek['nama'] = pendanaan_nama\n",
    "    )\n",
    "#     df_updateIdProyek[\n",
    "#     ['pendanaan_id', 'pengajuan_id', 'id_proyek', 'brw_id', 'pendanaan_nama', 'pendanaan_dana_dibutuhkan']\n",
    "# ].where(\n",
    "#     df_updateIdProyek['pendanaan_dana_dibutuhkan'].isna()\n",
    "#     & (df_updateIdProyek['pendanaan_nama'].notnull())\n",
    "#     | (df_updateIdProyek['pendanaan_nama'].notna())\n",
    "# )\n",
    "    print(total_need)\n",
    "\n",
    "# df_filter.at[0, 'pendanaan_nama']\n",
    "# df_lenderToProyek[['nama'].str.contains(df_updateIdProyek['pendanaan_nama'])]\n"
   ]
  },
  {
   "cell_type": "code",
   "execution_count": null,
   "id": "2e433651-fd7a-4f0c-bc3c-2266b7b785d3",
   "metadata": {},
   "outputs": [],
   "source": []
  }
 ],
 "metadata": {
  "kernelspec": {
   "display_name": "Python 3",
   "language": "python",
   "name": "python3"
  },
  "language_info": {
   "codemirror_mode": {
    "name": "ipython",
    "version": 3
   },
   "file_extension": ".py",
   "mimetype": "text/x-python",
   "name": "python",
   "nbconvert_exporter": "python",
   "pygments_lexer": "ipython3",
   "version": "3.7.11"
  }
 },
 "nbformat": 4,
 "nbformat_minor": 5
}
